{
 "cells": [
  {
   "cell_type": "code",
   "execution_count": 109,
   "metadata": {},
   "outputs": [],
   "source": [
    "### DO NOT ALTER OR RUN REPEATEDLY ###\n",
    "import numpy as np\n",
    "from math import log10, floor\n",
    "import pandas as pd\n",
    "\n",
    "def round_sig(x, sig=2):\n",
    "       return round(x, sig-int(floor(log10(abs(x))))-1)\n",
    "\n",
    "\n",
    "round_sig(1234243, 3)\n",
    "\n",
    "data = {\n",
    "        'delta_t':[],\n",
    "        'Length(m)':[],\n",
    "        'mu':[],\n",
    "        'angle(rad)':[],\n",
    "        'gravity': [],\n",
    "        'total_time': [],\n",
    "        'period_time': [],\n",
    "        'experiment_period_time': [],\n",
    "        'Difference': []\n",
    "        \n",
    "}\n",
    "df = pd.DataFrame(data)\n",
    "\n",
    "\n",
    "\n",
    "\n",
    "### DO NOT ALTER OR RUN REPEATEDLY ###"
   ]
  },
  {
   "cell_type": "code",
   "execution_count": 73,
   "metadata": {},
   "outputs": [],
   "source": [
    "g = 9.80665 #Gravity to 4 significant figures\n",
    "L = 0.48 #Adjust the length here in meters\n",
    "mu = 0.0000 #The air resistance coefficient.\n",
    "THETA_0 = np.pi/6 #45 DEGREES"
   ]
  },
  {
   "cell_type": "code",
   "execution_count": 110,
   "metadata": {},
   "outputs": [],
   "source": [
    "def period_time_length(delta_t,L,mu,THETA_0,g,t):\n",
    "    \n",
    "    \n",
    "    def get_theta_double_dot(theta,theta_dot,g,L,mu):\n",
    "        return -mu * theta_dot**2 - (g / L)*np.sin(theta)\n",
    "\n",
    "    period_count = []\n",
    "    time_count = 0\n",
    "    old_time = 0\n",
    "    theta = THETA_0\n",
    "    theta_dot = 0\n",
    "    for time in np.arange(0, t, delta_t):\n",
    "        time_count += delta_t\n",
    "        theta_double_dot = get_theta_double_dot(theta, theta_dot,g,L,mu)\n",
    "        theta += theta_dot * delta_t\n",
    "        previous_theta_dot = theta_dot\n",
    "        theta_dot += theta_double_dot * delta_t\n",
    "        \n",
    "        if previous_theta_dot > 0 and theta_dot < 0: \n",
    "            period_count += [time_count - old_time]\n",
    "            old_time = time_count\n",
    "    \n",
    "    target = {\n",
    "            0.48: 1.4282,\n",
    "            0.38: 1.2994,\n",
    "            0.35: 1.2122,\n",
    "            0.27: 1.0744,\n",
    "            0.24: 1.0088,\n",
    "            0.21: 0.9042,\n",
    "            0.13: 0.7704,\n",
    "            0.08: 0.5732\n",
    "    }\n",
    "            \n",
    "            \n",
    "    new_data = {\n",
    "        'delta_t':[delta_t],\n",
    "        'Length(m)':[L],\n",
    "        'mu':[mu],\n",
    "        'angle(rad)':[THETA_0],\n",
    "        'gravity': [g],\n",
    "        'total_time': [t],\n",
    "        'period_time': [np.mean(period_count)],\n",
    "        'experiment_period_time': [target[L]],\n",
    "        'Difference': [target[L]-np.mean(period_count)] \n",
    "}\n",
    "    df2 = pd.DataFrame(new_data)\n",
    "    global df\n",
    "    df = df.append(df2)        \n",
    "    return target[L]-np.mean(period_count)"
   ]
  },
  {
   "cell_type": "code",
   "execution_count": 104,
   "metadata": {},
   "outputs": [
    {
     "data": {
      "text/plain": [
       "0.0013011764822880023"
      ]
     },
     "execution_count": 104,
     "metadata": {},
     "output_type": "execute_result"
    }
   ],
   "source": [
    "period_time_length(0.00001,0.08,0.01,np.pi/9,9.80665,10)"
   ]
  },
  {
   "cell_type": "code",
   "execution_count": null,
   "metadata": {},
   "outputs": [],
   "source": [
    "df"
   ]
  },
  {
   "cell_type": "code",
   "execution_count": null,
   "metadata": {},
   "outputs": [],
   "source": [
    "experiment_lengths = [0.48,0.38,0.35,0.27,0.24,0.21,0.13,0.08]\n",
    "\n",
    "\n",
    "for length in experiment_lengths:\n",
    "    difference = 1\n",
    "    while difference > 0.02:\n",
    "        for mu2 in range(0,10,1):\n",
    "            difference = period_time_length(0.00001,length,mu2/10,np.pi/9,9.80665,10)\n",
    "        "
   ]
  },
  {
   "cell_type": "code",
   "execution_count": null,
   "metadata": {},
   "outputs": [],
   "source": []
  }
 ],
 "metadata": {
  "kernelspec": {
   "display_name": "Python 3",
   "language": "python",
   "name": "python3"
  },
  "language_info": {
   "codemirror_mode": {
    "name": "ipython",
    "version": 3
   },
   "file_extension": ".py",
   "mimetype": "text/x-python",
   "name": "python",
   "nbconvert_exporter": "python",
   "pygments_lexer": "ipython3",
   "version": "3.7.4"
  }
 },
 "nbformat": 4,
 "nbformat_minor": 2
}
