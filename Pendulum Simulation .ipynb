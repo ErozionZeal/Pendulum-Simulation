{
 "cells": [
  {
   "cell_type": "code",
   "execution_count": 13,
   "metadata": {},
   "outputs": [],
   "source": [
    "import numpy as np\n",
    "from math import log10, floor"
   ]
  },
  {
   "cell_type": "code",
   "execution_count": 14,
   "metadata": {},
   "outputs": [
    {
     "data": {
      "text/plain": [
       "1234243"
      ]
     },
     "execution_count": 14,
     "metadata": {},
     "output_type": "execute_result"
    }
   ],
   "source": [
    " \n",
    "def round_sig(x, sig=2):\n",
    "       return round(x, sig-int(floor(log10(abs(x))))-1)\n",
    "\n",
    "\n",
    "round_sig(1234243, 10)\n"
   ]
  },
  {
   "cell_type": "code",
   "execution_count": 25,
   "metadata": {},
   "outputs": [],
   "source": [
    "g = 9.80665 #Gravity to 4 significant figures\n",
    "L = 0.22 #Adjust the length here in meters\n",
    "mu = 0.0001 #The air resistance coefficient.\n"
   ]
  },
  {
   "cell_type": "code",
   "execution_count": 26,
   "metadata": {},
   "outputs": [],
   "source": [
    "THETA_0 = np.pi/4 #45 DEGREES\n",
    "THETA_DOT_0 = np.pi*0 #No initial angular velocity"
   ]
  },
  {
   "cell_type": "code",
   "execution_count": 27,
   "metadata": {},
   "outputs": [],
   "source": [
    "#Definition of ODE\n",
    "def get_theta_double_dot(theta,theta_dot):\n",
    "    return -mu * theta_dot**2 - (g / L)*np.sin(theta)"
   ]
  },
  {
   "cell_type": "code",
   "execution_count": 28,
   "metadata": {},
   "outputs": [],
   "source": [
    "def theta(t):\n",
    "    print('Calculating...')\n",
    "    period_count = []\n",
    "    time_count = 0\n",
    "    old_time = 0\n",
    "    theta = THETA_0\n",
    "    theta_dot = THETA_DOT_0\n",
    "    delta_t = 0.000001\n",
    "    for time in np.arange(0, t, delta_t):\n",
    "        time_count += delta_t\n",
    "        theta_double_dot = get_theta_double_dot(theta, theta_dot)\n",
    "        theta += theta_dot * delta_t\n",
    "        previous_theta_dot = theta_dot\n",
    "        theta_dot += theta_double_dot * delta_t\n",
    "        \n",
    "        if previous_theta_dot > 0 and theta_dot < 0: \n",
    "            print(round_sig(time_count,4),':', theta_dot,':', delta_t)\n",
    "            period_count += [time_count,time_count - old_time,'......']\n",
    "            old_time = time_count\n",
    "            \n",
    "    return 'Angle: ', theta,  'Periods: ', period_count, time_count, old_time\n",
    "    "
   ]
  },
  {
   "cell_type": "code",
   "execution_count": 29,
   "metadata": {},
   "outputs": [
    {
     "name": "stdout",
     "output_type": "stream",
     "text": [
      "Calculating...\n",
      "0.9787 : -1.7266991052265935e-06 : 1e-06\n",
      "1.957 : -1.5161215762293793e-05 : 1e-06\n",
      "2.936 : -8.780514088312976e-06 : 1e-06\n"
     ]
    },
    {
     "data": {
      "text/plain": [
       "('Angle: ',\n",
       " 0.7218760669694989,\n",
       " 'Periods: ',\n",
       " [0.9787130000073061,\n",
       "  0.9787130000073061,\n",
       "  '......',\n",
       "  1.9574279999291537,\n",
       "  0.9787149999218476,\n",
       "  '......',\n",
       "  2.9361440000565038,\n",
       "  0.97871600012735,\n",
       "  '......'],\n",
       " 3.0000000000654294,\n",
       " 2.9361440000565038)"
      ]
     },
     "execution_count": 29,
     "metadata": {},
     "output_type": "execute_result"
    }
   ],
   "source": [
    "theta(3)"
   ]
  },
  {
   "cell_type": "code",
   "execution_count": null,
   "metadata": {},
   "outputs": [],
   "source": []
  },
  {
   "cell_type": "code",
   "execution_count": null,
   "metadata": {},
   "outputs": [],
   "source": []
  }
 ],
 "metadata": {
  "kernelspec": {
   "display_name": "Python 3",
   "language": "python",
   "name": "python3"
  },
  "language_info": {
   "codemirror_mode": {
    "name": "ipython",
    "version": 3
   },
   "file_extension": ".py",
   "mimetype": "text/x-python",
   "name": "python",
   "nbconvert_exporter": "python",
   "pygments_lexer": "ipython3",
   "version": "3.7.3"
  }
 },
 "nbformat": 4,
 "nbformat_minor": 2
}
