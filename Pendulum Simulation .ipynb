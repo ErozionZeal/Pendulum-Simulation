{
 "cells": [
  {
   "cell_type": "code",
   "execution_count": 1,
   "metadata": {},
   "outputs": [],
   "source": [
    "### DO NOT ALTER OR RUN REPEATEDLY ###\n",
    "import numpy as np\n",
    "from math import log10, floor\n",
    "import pandas as pd\n",
    "import matplotlib.cm as cm\n",
    "import matplotlib.pyplot as plt\n",
    "\n",
    "def round_sig(x, sig=2):\n",
    "       return round(x, sig-int(floor(log10(abs(x))))-1)\n",
    "\n",
    "data = {\n",
    "        'delta_t':[],\n",
    "        'Length(m)':[],\n",
    "        'mu':[],\n",
    "        'angle(rad)':[],\n",
    "        'gravity': [],\n",
    "        'total_time': [],\n",
    "        'period_time': [],\n",
    "        'experiment_period_time': [],\n",
    "        'Difference': []\n",
    "}\n",
    "df = pd.DataFrame(data)\n",
    "\n",
    "\n",
    "\n",
    "\n",
    "### DO NOT ALTER OR RUN REPEATEDLY ###"
   ]
  },
  {
   "cell_type": "code",
   "execution_count": 2,
   "metadata": {},
   "outputs": [],
   "source": [
    "def period_time_length(delta_t,L,mu,THETA_0,g,t):\n",
    "    \n",
    "    \n",
    "    def get_theta_double_dot(theta,theta_dot,g,L,mu):\n",
    "        return -mu * theta_dot**2 - (g / L)*np.sin(theta)\n",
    "\n",
    "    period_count = []\n",
    "    time_count = 0\n",
    "    old_time = 0\n",
    "    theta = THETA_0\n",
    "    theta_dot = 0\n",
    "    phase_space_x = []\n",
    "    phase_space_y = []\n",
    "    period_num_count = 1\n",
    "    phase_space_count = []\n",
    "    for time in np.arange(0, t, delta_t):\n",
    "        phase_space_x += [theta]\n",
    "        phase_space_y += [theta_dot]\n",
    "        phase_space_count += [period_num_count%20]\n",
    "        time_count += delta_t\n",
    "        theta_double_dot = get_theta_double_dot(theta, theta_dot,g,L,mu)\n",
    "        theta += theta_dot * delta_t\n",
    "        previous_theta_dot = theta_dot\n",
    "        theta_dot += theta_double_dot * delta_t\n",
    "        \n",
    "        if previous_theta_dot > 0 and theta_dot < 0: \n",
    "            period_count += [time_count - old_time]\n",
    "            old_time = time_count\n",
    "            period_num_count += 1\n",
    "    \n",
    "    target = {\n",
    "            0.48: 1.4282,\n",
    "            0.38: 1.2994,\n",
    "            0.35: 1.2122,\n",
    "            0.27: 1.0744,\n",
    "            0.24: 1.0088,\n",
    "            0.21: 0.9042,\n",
    "            0.13: 0.7704,\n",
    "            0.08: 0.5732\n",
    "    }\n",
    "            \n",
    "            \n",
    "    new_data = {\n",
    "        'delta_t':[delta_t],\n",
    "        'Length(m)':[L],\n",
    "        'mu':[mu],\n",
    "        'angle(rad)':[THETA_0],\n",
    "        'gravity': [g],\n",
    "        'total_time': [t],\n",
    "        'period_time': [np.mean(period_count)],\n",
    "        'experiment_period_time': [target[L]],\n",
    "        'Difference': [target[L]-np.mean(period_count)] \n",
    "}\n",
    "    df2 = pd.DataFrame(new_data)\n",
    "    global df\n",
    "    df = df.append(df2)    \n",
    "    #phase_space_x, phase_space_y, phase_space_count\n",
    "    return target[L]-np.mean(period_count)"
   ]
  },
  {
   "cell_type": "code",
   "execution_count": 3,
   "metadata": {},
   "outputs": [
    {
     "data": {
      "text/html": [
       "<div>\n",
       "<style scoped>\n",
       "    .dataframe tbody tr th:only-of-type {\n",
       "        vertical-align: middle;\n",
       "    }\n",
       "\n",
       "    .dataframe tbody tr th {\n",
       "        vertical-align: top;\n",
       "    }\n",
       "\n",
       "    .dataframe thead th {\n",
       "        text-align: right;\n",
       "    }\n",
       "</style>\n",
       "<table border=\"1\" class=\"dataframe\">\n",
       "  <thead>\n",
       "    <tr style=\"text-align: right;\">\n",
       "      <th></th>\n",
       "      <th>delta_t</th>\n",
       "      <th>Length(m)</th>\n",
       "      <th>mu</th>\n",
       "      <th>angle(rad)</th>\n",
       "      <th>gravity</th>\n",
       "      <th>total_time</th>\n",
       "      <th>period_time</th>\n",
       "      <th>experiment_period_time</th>\n",
       "      <th>Difference</th>\n",
       "    </tr>\n",
       "  </thead>\n",
       "  <tbody>\n",
       "  </tbody>\n",
       "</table>\n",
       "</div>"
      ],
      "text/plain": [
       "Empty DataFrame\n",
       "Columns: [delta_t, Length(m), mu, angle(rad), gravity, total_time, period_time, experiment_period_time, Difference]\n",
       "Index: []"
      ]
     },
     "execution_count": 3,
     "metadata": {},
     "output_type": "execute_result"
    }
   ],
   "source": [
    "df"
   ]
  },
  {
   "cell_type": "code",
   "execution_count": 4,
   "metadata": {},
   "outputs": [
    {
     "name": "stdout",
     "output_type": "stream",
     "text": [
      "1\n",
      "2\n",
      "3\n",
      "4\n",
      "5\n",
      "6\n",
      "7\n",
      "8\n",
      "9\n",
      "10\n",
      "11\n",
      "12\n",
      "13\n",
      "14\n",
      "15\n",
      "16\n",
      "17\n",
      "18\n",
      "19\n",
      "20\n",
      "21\n",
      "22\n",
      "23\n",
      "24\n",
      "25\n",
      "26\n",
      "27\n",
      "28\n",
      "29\n",
      "30\n",
      "31\n",
      "32\n",
      "33\n",
      "34\n",
      "35\n",
      "36\n",
      "37\n",
      "38\n",
      "39\n",
      "40\n",
      "41\n",
      "42\n",
      "43\n",
      "44\n",
      "45\n",
      "46\n",
      "47\n",
      "48\n",
      "49\n",
      "50\n",
      "51\n",
      "52\n",
      "53\n",
      "54\n",
      "55\n",
      "56\n",
      "57\n",
      "58\n",
      "59\n",
      "60\n",
      "61\n",
      "62\n",
      "63\n",
      "64\n",
      "65\n",
      "66\n",
      "67\n",
      "68\n",
      "69\n",
      "70\n",
      "71\n",
      "72\n",
      "73\n",
      "74\n",
      "75\n",
      "76\n",
      "77\n",
      "78\n",
      "79\n",
      "80\n",
      "81\n",
      "82\n",
      "83\n",
      "84\n",
      "85\n",
      "86\n",
      "87\n",
      "88\n",
      "89\n",
      "90\n",
      "91\n",
      "92\n",
      "93\n",
      "94\n",
      "95\n",
      "96\n",
      "97\n",
      "98\n",
      "99\n",
      "100\n",
      "101\n",
      "102\n",
      "103\n",
      "104\n",
      "105\n",
      "106\n",
      "107\n",
      "108\n",
      "109\n",
      "110\n",
      "111\n",
      "112\n",
      "113\n",
      "114\n",
      "115\n",
      "116\n",
      "117\n",
      "118\n",
      "119\n",
      "120\n"
     ]
    }
   ],
   "source": [
    "experiment_lengths = [0.48,0.38,0.35,0.27,0.24,0.21,0.13,0.08]\n",
    "g = 9.80665 #Gravity to 4 significant figures\n",
    "count = 1\n",
    "for length in experiment_lengths:\n",
    "    for mu2 in range(675,690,1):\n",
    "        period_time_length(0.0001,length,mu2/1000,np.pi/9,9.80665,10)\n",
    "        print(count)\n",
    "        count += 1\n",
    "        "
   ]
  },
  {
   "cell_type": "code",
   "execution_count": 5,
   "metadata": {
    "scrolled": false
   },
   "outputs": [
    {
     "name": "stdout",
     "output_type": "stream",
     "text": [
      "<class 'pandas.core.frame.DataFrame'>\n",
      "Int64Index: 120 entries, 0 to 0\n",
      "Data columns (total 9 columns):\n",
      "delta_t                   120 non-null float64\n",
      "Length(m)                 120 non-null float64\n",
      "mu                        120 non-null float64\n",
      "angle(rad)                120 non-null float64\n",
      "gravity                   120 non-null float64\n",
      "total_time                120 non-null float64\n",
      "period_time               120 non-null float64\n",
      "experiment_period_time    120 non-null float64\n",
      "Difference                120 non-null float64\n",
      "dtypes: float64(9)\n",
      "memory usage: 9.4 KB\n"
     ]
    }
   ],
   "source": [
    "df.info()"
   ]
  },
  {
   "cell_type": "code",
   "execution_count": 6,
   "metadata": {},
   "outputs": [
    {
     "data": {
      "text/plain": [
       "<matplotlib.axes._subplots.AxesSubplot at 0x253686eb348>"
      ]
     },
     "execution_count": 6,
     "metadata": {},
     "output_type": "execute_result"
    },
    {
     "data": {
      "image/png": "[encoded data removed]",
      "text/plain": [
       "<Figure size 432x288 with 1 Axes>"
      ]
     },
     "metadata": {
      "needs_background": "light"
     },
     "output_type": "display_data"
    }
   ],
   "source": [
    "import matplotlib.pyplot as plt\n",
    "import seaborn as sns\n",
    "sns.lineplot(data=df,x='mu',y='Difference')"
   ]
  },
  {
   "cell_type": "code",
   "execution_count": null,
   "metadata": {},
   "outputs": [],
   "source": [
    "import matplotlib.pyplot as plt\n",
    "import seaborn as sns\n",
    "sns.lineplot(data=df,x='Length(m)',y='Difference')"
   ]
  },
  {
   "cell_type": "code",
   "execution_count": null,
   "metadata": {},
   "outputs": [],
   "source": []
  },
  {
   "cell_type": "code",
   "execution_count": null,
   "metadata": {},
   "outputs": [],
   "source": []
  },
  {
   "cell_type": "code",
   "execution_count": null,
   "metadata": {},
   "outputs": [],
   "source": []
  },
  {
   "cell_type": "code",
   "execution_count": null,
   "metadata": {},
   "outputs": [],
   "source": []
  },
  {
   "cell_type": "code",
   "execution_count": 8,
   "metadata": {},
   "outputs": [
    {
     "ename": "TypeError",
     "evalue": "cannot unpack non-iterable numpy.float64 object",
     "output_type": "error",
     "traceback": [
      "\u001b[1;31m---------------------------------------------------------------------------\u001b[0m",
      "\u001b[1;31mTypeError\u001b[0m                                 Traceback (most recent call last)",
      "\u001b[1;32m<ipython-input-8-26034e7ce22f>\u001b[0m in \u001b[0;36m<module>\u001b[1;34m\u001b[0m\n\u001b[1;32m----> 1\u001b[1;33m \u001b[0mphase_space_x\u001b[0m\u001b[1;33m,\u001b[0m \u001b[0mphase_space_y\u001b[0m\u001b[1;33m,\u001b[0m \u001b[0mphase_space_count\u001b[0m \u001b[1;33m=\u001b[0m \u001b[0mperiod_time_length\u001b[0m\u001b[1;33m(\u001b[0m\u001b[1;36m0.00001\u001b[0m\u001b[1;33m,\u001b[0m\u001b[0mlength\u001b[0m\u001b[1;33m,\u001b[0m\u001b[1;36m0.6\u001b[0m\u001b[1;33m,\u001b[0m\u001b[0mnp\u001b[0m\u001b[1;33m.\u001b[0m\u001b[0mpi\u001b[0m\u001b[1;33m/\u001b[0m\u001b[1;36m9\u001b[0m\u001b[1;33m,\u001b[0m\u001b[1;36m9.80665\u001b[0m\u001b[1;33m,\u001b[0m\u001b[1;36m1000\u001b[0m\u001b[1;33m)\u001b[0m\u001b[1;33m\u001b[0m\u001b[1;33m\u001b[0m\u001b[0m\n\u001b[0m",
      "\u001b[1;31mTypeError\u001b[0m: cannot unpack non-iterable numpy.float64 object"
     ]
    }
   ],
   "source": [
    "phase_space_x, phase_space_y, phase_space_count = period_time_length(0.00001,length,0.6,np.pi/9,9.80665,1000)"
   ]
  },
  {
   "cell_type": "code",
   "execution_count": null,
   "metadata": {},
   "outputs": [],
   "source": [
    "plt.scatter(phase_space_x,phase_space_y)\n"
   ]
  },
  {
   "cell_type": "code",
   "execution_count": null,
   "metadata": {},
   "outputs": [],
   "source": [
    "fig, ax = plt.subplots(figsize=(10, 5))\n",
    "plt.title('Pendulum Phase Space', fontsize=20)\n",
    "plt.ylabel('Theta_Dot(rad/s)')\n",
    "plt.xlabel('Theta(rad)')\n",
    "\n",
    "ax.scatter(phase_space_x, phase_space_y, alpha=0.20, c= phase_space_count, cmap=cm.flag)\n",
    "ax.grid(color='grey', linestyle='-', linewidth=0.25, alpha=0.5)\n",
    "plt.show()"
   ]
  },
  {
   "cell_type": "code",
   "execution_count": null,
   "metadata": {},
   "outputs": [],
   "source": []
  },
  {
   "cell_type": "code",
   "execution_count": null,
   "metadata": {},
   "outputs": [],
   "source": []
  },
  {
   "cell_type": "code",
   "execution_count": null,
   "metadata": {},
   "outputs": [],
   "source": [
    "df.to_csv('full_data_3.csv')"
   ]
  },
  {
   "cell_type": "code",
   "execution_count": null,
   "metadata": {},
   "outputs": [],
   "source": []
  },
  {
   "cell_type": "code",
   "execution_count": null,
   "metadata": {},
   "outputs": [],
   "source": []
  },
  {
   "cell_type": "code",
   "execution_count": null,
   "metadata": {},
   "outputs": [],
   "source": []
  }
 ],
 "metadata": {
  "kernelspec": {
   "display_name": "Python 3",
   "language": "python",
   "name": "python3"
  },
  "language_info": {
   "codemirror_mode": {
    "name": "ipython",
    "version": 3
   },
   "file_extension": ".py",
   "mimetype": "text/x-python",
   "name": "python",
   "nbconvert_exporter": "python",
   "pygments_lexer": "ipython3",
   "version": "3.7.4"
  }
 },
 "nbformat": 4,
 "nbformat_minor": 2
}
